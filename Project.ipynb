{
 "cells": [
  {
   "cell_type": "code",
   "execution_count": 1,
   "id": "dc5228a7",
   "metadata": {},
   "outputs": [],
   "source": [
    "import pandas as pd"
   ]
  },
  {
   "cell_type": "code",
   "execution_count": 2,
   "id": "a9ca811c",
   "metadata": {},
   "outputs": [],
   "source": [
    "from sklearn.feature_extraction.text import TfidfVectorizer\n",
    "from sklearn.metrics.pairwise import linear_kernel\n",
    "from sklearn.metrics.pairwise import cosine_similarity"
   ]
  },
  {
   "cell_type": "code",
   "execution_count": 3,
   "id": "dc56b203",
   "metadata": {},
   "outputs": [],
   "source": [
    "movies_df = pd.read_csv(\"movies.csv\")\n",
    "ratings_df = pd.read_csv(\"ratings.csv\")"
   ]
  },
  {
   "cell_type": "code",
   "execution_count": 4,
   "id": "463e8e29",
   "metadata": {},
   "outputs": [],
   "source": [
    "df = pd.merge(movies_df, ratings_df, on='movieId')"
   ]
  },
  {
   "cell_type": "code",
   "execution_count": 5,
   "id": "b82e9182",
   "metadata": {},
   "outputs": [
    {
     "name": "stdout",
     "output_type": "stream",
     "text": [
      "Objective 1:-\n",
      "Create a popularity-based recommender system at a genre level. The user will input a genre (g), minimum rating threshold (t) for a movie, and no. of recommendations(N) for which it should be recommended top N movies which are most popular within that genre (g) ordered by ratings in descending order where each movie has at least (t) reviews.\n"
     ]
    }
   ],
   "source": [
    "print(\"Objective 1:-\\nCreate a popularity-based recommender system at a genre level. The user will input a genre (g), minimum rating threshold (t) for a movie, and no. of recommendations(N) for which it should be recommended top N movies which are most popular within that genre (g) ordered by ratings in descending order where each movie has at least (t) reviews.\")"
   ]
  },
  {
   "cell_type": "code",
   "execution_count": 6,
   "id": "059560b0",
   "metadata": {},
   "outputs": [],
   "source": [
    "genres = df[\"genres\"].str.split(\"|\").explode().unique()"
   ]
  },
  {
   "cell_type": "code",
   "execution_count": 7,
   "id": "a12d29cd",
   "metadata": {},
   "outputs": [
    {
     "name": "stdout",
     "output_type": "stream",
     "text": [
      "Please enter the Genre out of ['Adventure' 'Animation' 'Children' 'Comedy' 'Fantasy' 'Romance' 'Drama'\n",
      " 'Action' 'Crime' 'Thriller' 'Horror' 'Mystery' 'Sci-Fi' 'IMAX' 'War'\n",
      " 'Musical' 'Documentary' 'Western' 'Film-Noir' '(no genres listed)']: Drama\n",
      "Please enter the minimum rating threshold: 100\n",
      "Please enter the number of movie recommendation: 5\n"
     ]
    }
   ],
   "source": [
    "genre= input(f\"Please enter the Genre out of {genres}: \")\n",
    "threshold=int(input(\"Please enter the minimum rating threshold: \"))\n",
    "N=int(input(\"Please enter the number of movie recommendation: \"))"
   ]
  },
  {
   "cell_type": "code",
   "execution_count": 8,
   "id": "fa1a7fe7",
   "metadata": {},
   "outputs": [],
   "source": [
    "def objective1():\n",
    "    gen_movie = df[df['genres'].str.contains(genre, case=False)]\n",
    "    stats = gen_movie.groupby(['title']).agg({'rating': ['mean', 'count']})\n",
    "    stats.columns = ['Average Movie Rating', 'Num Reviews']\n",
    "    t_movie = stats[stats['Num Reviews'] >= threshold]\n",
    "    result = t_movie.sort_values(by='Average Movie Rating', ascending=False).head(N).reset_index()\n",
    "    return result"
   ]
  },
  {
   "cell_type": "code",
   "execution_count": 9,
   "id": "566f86b9",
   "metadata": {},
   "outputs": [
    {
     "name": "stdout",
     "output_type": "stream",
     "text": [
      "Top 5 movies within Drama genre which has atleast 100 reviews are :-\n",
      "                                     title  Average Movie Rating  Num Reviews\n",
      "0        Shawshank Redemption, The (1994)              4.454545          308\n",
      "1                   Godfather, The (1972)              4.392857          210\n",
      "2                 Schindler's List (1993)              4.296371          248\n",
      "3  One Flew Over the Cuckoo's Nest (1975)              4.272727          143\n",
      "4                            Fargo (1996)              4.271144          201\n"
     ]
    }
   ],
   "source": [
    "print(f\"Top {N} movies within {genre} genre which has atleast {threshold} reviews are :-\\n\",objective1())"
   ]
  },
  {
   "cell_type": "code",
   "execution_count": 10,
   "id": "42a65bf8",
   "metadata": {},
   "outputs": [
    {
     "name": "stdout",
     "output_type": "stream",
     "text": [
      "Objective 2:-\n",
      "Create a content-based recommender system that recommends top N numbers movies based on similar movie genres watched by a random user. \n"
     ]
    }
   ],
   "source": [
    "print(\"Objective 2:-\\nCreate a content-based recommender system that recommends top N numbers movies based on similar movie genres watched by a random user. \")"
   ]
  },
  {
   "cell_type": "code",
   "execution_count": 15,
   "id": "51854db3",
   "metadata": {},
   "outputs": [
    {
     "name": "stdout",
     "output_type": "stream",
     "text": [
      "Enter the movie name (Please mention the yaer of release too): Toy Story (1995)\n",
      "Enter the number of reccomendation required : 5\n"
     ]
    }
   ],
   "source": [
    "movie_title = input(\"Enter the movie name (Please mention the yaer of release too): \")\n",
    "N = int(input(\"Enter the number of reccomendation required : \"))"
   ]
  },
  {
   "cell_type": "code",
   "execution_count": 16,
   "id": "e1240450",
   "metadata": {},
   "outputs": [],
   "source": [
    "def objective2():\n",
    "    tfidf = TfidfVectorizer(stop_words='english')\n",
    "    tfidf_matrix = tfidf.fit_transform(movies_df['genres'])\n",
    "    cosine_sim = linear_kernel(tfidf_matrix, tfidf_matrix)\n",
    "    idx = movies_df.index[movies_df['title'] == movie_title].tolist()[0]\n",
    "    sim_scores = list(enumerate(cosine_sim[idx]))\n",
    "    sim_scores = sorted(sim_scores, key=lambda x: x[1], reverse=True)\n",
    "    sim_scores = sim_scores[1:N+1]\n",
    "    movie_indices = [i[0] for i in sim_scores]\n",
    "    recommendations = movies_df['title'].iloc[movie_indices].tolist()\n",
    "    #print(\"Recommendations for\", movie_title)\n",
    "    for i, title in enumerate(recommendations, 1):\n",
    "        print(f\"{i}. {title}\")"
   ]
  },
  {
   "cell_type": "code",
   "execution_count": 17,
   "id": "93628f04",
   "metadata": {},
   "outputs": [
    {
     "name": "stdout",
     "output_type": "stream",
     "text": [
      "Top 5 movies similar to Toy Story (1995) :-\n",
      "\n",
      "1. Antz (1998)\n",
      "2. Toy Story 2 (1999)\n",
      "3. Adventures of Rocky and Bullwinkle, The (2000)\n",
      "4. Emperor's New Groove, The (2000)\n",
      "5. Monsters, Inc. (2001)\n"
     ]
    }
   ],
   "source": [
    "print(f\"Top {N} movies similar to {movie_title} :-\\n\")\n",
    "objective2()"
   ]
  },
  {
   "cell_type": "code",
   "execution_count": 18,
   "id": "1302feb0",
   "metadata": {},
   "outputs": [
    {
     "name": "stdout",
     "output_type": "stream",
     "text": [
      "Objective 3:-\n",
      "Create a collaborative based recommender system which recommends top N movies based on “K” similar users for a target user “u” \n"
     ]
    }
   ],
   "source": [
    "print(\"Objective 3:-\\nCreate a collaborative based recommender system which recommends top N movies based on “K” similar users for a target user “u” \")"
   ]
  },
  {
   "cell_type": "code",
   "execution_count": 19,
   "id": "cc0a35b0",
   "metadata": {},
   "outputs": [
    {
     "name": "stdout",
     "output_type": "stream",
     "text": [
      "Enter the User ID of the target user : 5\n",
      "Enter the number of recommendation required : 5\n",
      "Enter the similar user threshold : 100\n"
     ]
    }
   ],
   "source": [
    "user_id = int(input(\"Enter the User ID of the target user : \"))\n",
    "n = int(input(\"Enter the number of recommendation required : \"))\n",
    "k = int(input(\"Enter the similar user threshold : \"))"
   ]
  },
  {
   "cell_type": "code",
   "execution_count": 20,
   "id": "f6988208",
   "metadata": {},
   "outputs": [],
   "source": [
    "def objective3():\n",
    "    matrix = ratings_df.pivot(index='userId', columns='movieId', values='rating').fillna(0)\n",
    "    sim = cosine_similarity(matrix)\n",
    "    sim_users = sim[user_id - 1].argsort()[::-1][1:k+1] + 1\n",
    "    sim_users_movies = ratings_df[ratings_df['userId'].isin(sim_users)]\n",
    "    filtered_movies = sim_users_movies[sim_users_movies['userId'] != user_id]\n",
    "    group_ratings = sim_users_movies.groupby('movieId')['rating'].agg(['mean', 'count'])\n",
    "    top_movies = group_ratings.sort_values(by=['mean', 'count'], ascending=False).head(n)\n",
    "    recommended_movies=top_movies.index.tolist()\n",
    "    print(f'Top {n} movies based on “{k}” similar users for a target user, \"User ID :{user_id}\"')\n",
    "    for i, movie_id in enumerate(recommended_movies, 1):\n",
    "        movie_title = movies_df.loc[movies_df['movieId'] == movie_id, 'title'].iloc[0]\n",
    "        print(f\"{i}. {movie_title}\")"
   ]
  },
  {
   "cell_type": "code",
   "execution_count": 21,
   "id": "bd6bf599",
   "metadata": {},
   "outputs": [
    {
     "name": "stdout",
     "output_type": "stream",
     "text": [
      "Top 5 movies based on “100” similar users for a target user, \"User ID :5\"\n",
      "1. Cosmos (1980)\n",
      "2. All Quiet on the Western Front (1930)\n",
      "3. All About My Mother (Todo sobre mi madre) (1999)\n",
      "4. Gold Rush, The (1925)\n",
      "5. White Christmas (1954)\n"
     ]
    }
   ],
   "source": [
    "objective3()"
   ]
  },
  {
   "cell_type": "code",
   "execution_count": null,
   "id": "4f7bee0a",
   "metadata": {},
   "outputs": [],
   "source": []
  }
 ],
 "metadata": {
  "kernelspec": {
   "display_name": "Python 3 (ipykernel)",
   "language": "python",
   "name": "python3"
  },
  "language_info": {
   "codemirror_mode": {
    "name": "ipython",
    "version": 3
   },
   "file_extension": ".py",
   "mimetype": "text/x-python",
   "name": "python",
   "nbconvert_exporter": "python",
   "pygments_lexer": "ipython3",
   "version": "3.11.5"
  }
 },
 "nbformat": 4,
 "nbformat_minor": 5
}
